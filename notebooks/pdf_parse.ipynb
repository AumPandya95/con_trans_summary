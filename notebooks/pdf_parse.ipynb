{
 "cells": [
  {
   "cell_type": "code",
   "execution_count": null,
   "metadata": {},
   "outputs": [],
   "source": [
    "!pip install pdfminer.six"
   ]
  },
  {
   "cell_type": "code",
   "execution_count": 21,
   "metadata": {},
   "outputs": [],
   "source": [
    "import PyPDF2\n",
    "from pdfminer.high_level import extract_text\n",
    "import re"
   ]
  },
  {
   "cell_type": "code",
   "execution_count": 2,
   "metadata": {},
   "outputs": [],
   "source": [
    "pdfFileObj = open('../data/e546b4e7-9efe-4a5a-8e31-09a09f9487fb.pdf', 'rb')"
   ]
  },
  {
   "cell_type": "code",
   "execution_count": null,
   "metadata": {},
   "outputs": [],
   "source": [
    "pdfReader = PyPDF2.PdfFileReader(pdfFileObj)"
   ]
  },
  {
   "cell_type": "code",
   "execution_count": null,
   "metadata": {},
   "outputs": [],
   "source": [
    "pdfReader.getDocumentInfo()"
   ]
  },
  {
   "cell_type": "code",
   "execution_count": null,
   "metadata": {},
   "outputs": [],
   "source": [
    "pdfReader.getOutlines()"
   ]
  },
  {
   "cell_type": "code",
   "execution_count": null,
   "metadata": {},
   "outputs": [],
   "source": [
    "pageObj = pdfReader.getPage(7)\n",
    "a = pageObj.extractText()\n",
    "a"
   ]
  },
  {
   "cell_type": "code",
   "execution_count": null,
   "metadata": {
    "scrolled": true
   },
   "outputs": [],
   "source": [
    "with open('check.txt', 'w') as f:\n",
    "    f.write(a)\n",
    "    f.close()"
   ]
  },
  {
   "cell_type": "code",
   "execution_count": null,
   "metadata": {},
   "outputs": [],
   "source": [
    "print(pdfminer.__version__)"
   ]
  },
  {
   "cell_type": "code",
   "execution_count": null,
   "metadata": {},
   "outputs": [],
   "source": [
    "pdfReader.isEncrypted"
   ]
  },
  {
   "cell_type": "code",
   "execution_count": null,
   "metadata": {},
   "outputs": [],
   "source": [
    "pdfReader.getPage(0).extractText()"
   ]
  },
  {
   "cell_type": "code",
   "execution_count": null,
   "metadata": {},
   "outputs": [],
   "source": []
  },
  {
   "cell_type": "code",
   "execution_count": 51,
   "metadata": {},
   "outputs": [],
   "source": [
    "text = extract_text('../data/e546b4e7-9efe-4a5a-8e31-09a09f9487fb.pdf')\n",
    "text1 = extract_text('../data/AGM_Transcript_Revised.pdf')"
   ]
  },
  {
   "cell_type": "code",
   "execution_count": 20,
   "metadata": {},
   "outputs": [
    {
     "data": {
      "text/plain": [
       "'MANAGEMENT:  MR.  R.  K.  SHETTY  —  MANAGING  DIRECTOR,  HERANBA \\n\\nINDUSTRIES  LIMITED \\n\\nMR.  RAUNAK  SHETTY  —  EXECUTIVE  DIRECTOR, \\n\\nHERANBA  INDUSTRIES  LIMITED \\n\\nMR.  RAJ  KUMAR  BAFNA  —  CHIEF  FINANCIAL  OFFICER, \\n\\nHERANBA  INDUSTRIES  LIMITED \\n\\nPage  1  of  18\\n\\n\\x0cHERANBA \\n\\nINDUSTRIES  LIMITED \\nA  Govt,  Recognised  Export  House \\n\\nHeranba  Industries  Limited \\nAugust  17,  2027 \\n\\nModerator: \\n\\nLadies  and  Gentlemen,  Good  Day  and  Welcome  to  the  Ql  FY22  Earnings  Conference  Call  for \\n\\nHeranba  Industries  Limited.  As  a  reminder,  all  participants’  lines  will  be  in  the  listen-only  mode, \\n\\nand  there  will  be  an  opportunity  for  you  to  ask  questions  after  the  presentation  concludes.  Should \\n\\nyou  need  assistance  during  this  conference  call,  please  signal  an  operator  by  pressing  ‘*’  and \\n\\nthen  ‘0’  on  your  touchtone  phone.  Please  note  that  this  conference  is  being  recorded.  I  now  hand \\n\\nthe  conference  over  to  Mr.  Ni'"
      ]
     },
     "execution_count": 20,
     "metadata": {},
     "output_type": "execute_result"
    }
   ],
   "source": [
    "text[text.find('MANAGEMENT:'): text.find('MANAGEMENT:')+1000]"
   ]
  },
  {
   "cell_type": "code",
   "execution_count": 50,
   "metadata": {},
   "outputs": [
    {
     "name": "stdout",
     "output_type": "stream",
     "text": [
      "['  mr.  r.  k.  shetty  —  managing  director,  heranba ', 'industries  limited ', 'mr.  raunak  shetty  —  executive  director, ', 'heranba  industries  limited ', 'mr.  raj  kumar  bafna  —  chief  financial  officer, ', 'heranba  industries  limited ', 'page  1  of  18', '\\x0cheranba ', 'industries  limited \\na  govt,  recognised  export  house ', 'heranba  industries  limited \\naugust  17,  2027 ', 'moderator']\n"
     ]
    }
   ],
   "source": [
    "pattern = \"management:((.|\\n)*?):\"\n",
    "sub_string = re.search(pattern, text.lower()).groups()\n",
    "\n",
    "print(sub_string[0].split('\\n\\n'))"
   ]
  },
  {
   "cell_type": "code",
   "execution_count": 56,
   "metadata": {},
   "outputs": [
    {
     "name": "stdout",
     "output_type": "stream",
     "text": [
      "[' shri r. mohan – non-executive chairman', 'dr. n. kamakodi – managing director & ceo\\nmr. v. ramesh – cfo & company secretary', 'board of directors present']\n"
     ]
    }
   ],
   "source": [
    "pattern = \"management:((.|\\n)*?):\"\n",
    "sub_string = re.search(pattern, text1.lower()).groups()\n",
    "\n",
    "print(sub_string[0].split('\\n\\n'))"
   ]
  }
 ],
 "metadata": {
  "kernelspec": {
   "display_name": "concall_summary",
   "language": "python",
   "name": "con_summary_env"
  },
  "language_info": {
   "codemirror_mode": {
    "name": "ipython",
    "version": 3
   },
   "file_extension": ".py",
   "mimetype": "text/x-python",
   "name": "python",
   "nbconvert_exporter": "python",
   "pygments_lexer": "ipython3",
   "version": "3.9.1"
  }
 },
 "nbformat": 4,
 "nbformat_minor": 4
}
