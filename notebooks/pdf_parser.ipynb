{
 "cells": [
  {
   "cell_type": "code",
   "execution_count": 1,
   "metadata": {},
   "outputs": [],
   "source": [
    "# from transformers import AutoTokenizer, AutoModelForTokenClassification\n",
    "# from transformers import pipeline\n",
    "import spacy\n",
    "\n",
    "from pdfminer.high_level import extract_text\n",
    "import pdfplumber\n",
    "import re\n",
    "import pandas as pd"
   ]
  },
  {
   "cell_type": "code",
   "execution_count": 2,
   "metadata": {},
   "outputs": [],
   "source": [
    "# For BERT based NER\n",
    "tokenizer = AutoTokenizer.from_pretrained(\"dslim/bert-base-NER\")\n",
    "model = AutoModelForTokenClassification.from_pretrained(\"dslim/bert-base-NER\")"
   ]
  },
  {
   "cell_type": "markdown",
   "metadata": {},
   "source": [
    "#### pdfminer.six"
   ]
  },
  {
   "cell_type": "code",
   "execution_count": 2,
   "metadata": {},
   "outputs": [],
   "source": [
    "text = extract_text('../data/AGM_Transcript_Revised.pdf')\n",
    "# text1 = extract_text('../data/AGM_Transcript_Revised.pdf')"
   ]
  },
  {
   "cell_type": "markdown",
   "metadata": {},
   "source": [
    "#### pdfplumber: Better results -> Check later"
   ]
  },
  {
   "cell_type": "code",
   "execution_count": 31,
   "metadata": {},
   "outputs": [],
   "source": [
    "with pdfplumber.open(\"../data/AGM_Transcript_Revised.pdf\") as file:\n",
    "    text = file.pages[10].extract_text()"
   ]
  },
  {
   "cell_type": "code",
   "execution_count": 34,
   "metadata": {},
   "outputs": [
    {
     "data": {
      "text/plain": [
       "'A.V. Mani Sundaram'"
      ]
     },
     "execution_count": 34,
     "metadata": {},
     "output_type": "execute_result"
    }
   ],
   "source": [
    "# Idea -> Creating tokens as Points of Interest (POI) in the text extracted from the PDF\n",
    "# and using these tokens to extract Entities of Interest (EOI)\n",
    "string = 'I now invite Mr. A.V. Mani Sundaram, CLID IN30163741521740.<mask>A.V. Mani Sundaram:'\n",
    "rege = r'(<mask>(.*)<mask>(.*?):)|(<mask>(.*?):)'\n",
    "\n",
    "re.findall(rege, string)[0][-1]"
   ]
  },
  {
   "cell_type": "markdown",
   "metadata": {},
   "source": [
    "#### NOTE: The processed data's accuracy will depend on the quality of pdf extraction "
   ]
  },
  {
   "cell_type": "code",
   "execution_count": 3,
   "metadata": {
    "scrolled": false
   },
   "outputs": [],
   "source": [
    "# Step 1: Creating POI\n",
    "text = text.replace('\\n\\n', '<mask>').replace('\\n', '<m>').replace('\\x0c', '')"
   ]
  },
  {
   "cell_type": "code",
   "execution_count": 4,
   "metadata": {},
   "outputs": [],
   "source": [
    "# Step 2: Extracting EOI\n",
    "a = re.findall(r'<mask>(.*?):', text)\n",
    "a = [str(_.strip()) + ':' for _ in a]\n",
    "\n",
    "final_list = []\n",
    "for string in a:\n",
    "    match_group = re.findall(r'(<mask>(.*)<mask>(.*?):)|(<mask>(.*?):)', string)\n",
    "    non_empty_group = [ele for inner_group in match_group for ele in inner_group if ele]\n",
    "    # print(non_empty_group)\n",
    "    if match_group:\n",
    "        if len(non_empty_group[0]) < 2:\n",
    "            pass\n",
    "        else:\n",
    "#             print(match_group[0][1])\n",
    "            final_list.append(non_empty_group[-1])\n",
    "#     final_list.extend(re.findall(r'<mask><mask>(.*)<mask><mask>(.*?):', string)[-1])\n",
    "\n",
    "# Approach: Weed out entities based on length of the string\n",
    "# Assumption: A typical name would not exceed 40 characters\n",
    "filtered_list = [filtered_element for filtered_element in final_list if len(filtered_element) <= 40]"
   ]
  },
  {
   "cell_type": "code",
   "execution_count": 5,
   "metadata": {},
   "outputs": [
    {
     "data": {
      "text/plain": [
       "['MANAGEMENT',\n",
       " 'BOARD OF DIRECTORS PRESENT',\n",
       " 'SPECIAL INVITES',\n",
       " 'Moderator',\n",
       " 'Shri R. Mohan',\n",
       " 'V. Ramesh',\n",
       " 'Shri R. Mohan',\n",
       " 'Moderator',\n",
       " 'Moderator',\n",
       " 'Aspi Bhesania',\n",
       " 'Moderator',\n",
       " 'A.V. Mani Sundaram',\n",
       " 'Moderator',\n",
       " 'J Abhishek',\n",
       " 'Moderator',\n",
       " 'G. Sankaran',\n",
       " 'Moderator',\n",
       " 'Santosh Kumar Saraf',\n",
       " 'Moderator',\n",
       " 'K.S. Balasubramanian',\n",
       " 'Moderator',\n",
       " 'Dr. N. Kamakodi',\n",
       " 'Shri R. Mohan',\n",
       " 'K. Vaidyanathan']"
      ]
     },
     "execution_count": 5,
     "metadata": {},
     "output_type": "execute_result"
    }
   ],
   "source": [
    "filtered_list"
   ]
  },
  {
   "cell_type": "code",
   "execution_count": 6,
   "metadata": {
    "scrolled": true
   },
   "outputs": [
    {
     "ename": "NameError",
     "evalue": "name 'pipeline' is not defined",
     "output_type": "error",
     "traceback": [
      "\u001b[0;31m---------------------------------------------------------------------------\u001b[0m",
      "\u001b[0;31mNameError\u001b[0m                                 Traceback (most recent call last)",
      "\u001b[0;32m/tmp/ipykernel_28722/1457458098.py\u001b[0m in \u001b[0;36m<module>\u001b[0;34m\u001b[0m\n\u001b[1;32m      1\u001b[0m \u001b[0;31m# Tentative Approach: Trying to filter out PER entities  (discarded)\u001b[0m\u001b[0;34m\u001b[0m\u001b[0;34m\u001b[0m\u001b[0;34m\u001b[0m\u001b[0m\n\u001b[0;32m----> 2\u001b[0;31m \u001b[0mnlp\u001b[0m \u001b[0;34m=\u001b[0m \u001b[0mpipeline\u001b[0m\u001b[0;34m(\u001b[0m\u001b[0;34m\"ner\"\u001b[0m\u001b[0;34m,\u001b[0m \u001b[0mmodel\u001b[0m\u001b[0;34m=\u001b[0m\u001b[0mmodel\u001b[0m\u001b[0;34m,\u001b[0m \u001b[0mtokenizer\u001b[0m\u001b[0;34m=\u001b[0m\u001b[0mtokenizer\u001b[0m\u001b[0;34m)\u001b[0m\u001b[0;34m\u001b[0m\u001b[0;34m\u001b[0m\u001b[0m\n\u001b[0m\u001b[1;32m      3\u001b[0m \u001b[0;34m\u001b[0m\u001b[0m\n\u001b[1;32m      4\u001b[0m \u001b[0;32mfor\u001b[0m \u001b[0meach_element\u001b[0m \u001b[0;32min\u001b[0m \u001b[0mfiltered_list\u001b[0m\u001b[0;34m:\u001b[0m\u001b[0;34m\u001b[0m\u001b[0;34m\u001b[0m\u001b[0m\n\u001b[1;32m      5\u001b[0m     \u001b[0mner\u001b[0m \u001b[0;34m=\u001b[0m \u001b[0mnlp\u001b[0m\u001b[0;34m(\u001b[0m\u001b[0meach_element\u001b[0m\u001b[0;34m.\u001b[0m\u001b[0mreplace\u001b[0m\u001b[0;34m(\u001b[0m\u001b[0;34m'.'\u001b[0m\u001b[0;34m,\u001b[0m \u001b[0;34m''\u001b[0m\u001b[0;34m)\u001b[0m\u001b[0;34m)\u001b[0m\u001b[0;34m\u001b[0m\u001b[0;34m\u001b[0m\u001b[0m\n",
      "\u001b[0;31mNameError\u001b[0m: name 'pipeline' is not defined"
     ]
    }
   ],
   "source": [
    "# Tentative Approach: Trying to filter out PER entities  (discarded)\n",
    "nlp = pipeline(\"ner\", model=model, tokenizer=tokenizer)\n",
    "\n",
    "for each_element in filtered_list:\n",
    "    ner = nlp(each_element.replace('.', ''))\n",
    "#     print(ner)\n",
    "# Cons: Does not work as expected; Moderator, Management does not fit under any entity; breaks down single words\n",
    "# and provides entities (is this expected?)"
   ]
  },
  {
   "cell_type": "code",
   "execution_count": 7,
   "metadata": {},
   "outputs": [],
   "source": [
    "# Tentative Approach: Trying to filter out PER entities  (using spaCy based NEW approach)\n",
    "\n",
    "# !python -m spacy download en_core_web_trf\n",
    "\n",
    "import spacy_transformers\n",
    "nlp_spacy_trf = spacy.load(\"en_core_web_trf\")"
   ]
  },
  {
   "cell_type": "code",
   "execution_count": 17,
   "metadata": {},
   "outputs": [
    {
     "name": "stderr",
     "output_type": "stream",
     "text": [
      "/home/aum/Desktop/projects/con_trans_summary/con_summary_env/lib/python3.9/site-packages/torch/autocast_mode.py:141: UserWarning: User provided device_type of 'cuda', but CUDA is not available. Disabling\n",
      "  warnings.warn('User provided device_type of \\'cuda\\', but CUDA is not available. Disabling')\n"
     ]
    }
   ],
   "source": [
    "ner_list = []\n",
    "for word_entity in nlp_spacy_trf(\" | \".join(filtered_list)).ents:\n",
    "    name_property = word_entity.text, word_entity.label_\n",
    "    ner_list.append(name_property)"
   ]
  },
  {
   "cell_type": "code",
   "execution_count": 26,
   "metadata": {},
   "outputs": [
    {
     "data": {
      "text/plain": [
       "[('Shri R. Mohan', 'PERSON'),\n",
       " ('V. Ramesh', 'PERSON'),\n",
       " ('Shri R. Mohan', 'PERSON'),\n",
       " ('Aspi Bhesania', 'PERSON'),\n",
       " ('A.V. Mani Sundaram', 'PERSON'),\n",
       " ('J Abhishek', 'PERSON'),\n",
       " ('G. Sankaran', 'PERSON'),\n",
       " ('Santosh Kumar Saraf', 'PERSON'),\n",
       " ('K.S. Balasubramanian', 'PERSON'),\n",
       " ('N. Kamakodi', 'PERSON'),\n",
       " ('Shri R. Mohan', 'PERSON'),\n",
       " ('K. Vaidyanathan', 'PERSON')]"
      ]
     },
     "execution_count": 26,
     "metadata": {},
     "output_type": "execute_result"
    }
   ],
   "source": [
    "ner_list"
   ]
  },
  {
   "cell_type": "code",
   "execution_count": 122,
   "metadata": {},
   "outputs": [
    {
     "data": {
      "text/plain": [
       "[]"
      ]
     },
     "execution_count": 122,
     "metadata": {},
     "output_type": "execute_result"
    }
   ],
   "source": [
    "[True for _li in ner_list if \"shRi\" in _li[0].lower()]"
   ]
  },
  {
   "cell_type": "code",
   "execution_count": 111,
   "metadata": {
    "scrolled": false
   },
   "outputs": [
    {
     "name": "stdout",
     "output_type": "stream",
     "text": [
      "[('MANAGEMENT', 77, 88), ('BOARD OF DIRECTORS PRESENT', 222, 249), ('SPECIAL INVITES', 588, 604), ('Moderator', 799, 809), ('Shri R. Mohan', 1504, 1518), ('V. Ramesh', 3540, 3550), ('Shri R. Mohan', 4947, 4961), ('Moderator', 27547, 27557), ('Moderator', 27708, 27718), ('Aspi Bhesania', 27783, 27797), ('Moderator', 30098, 30108), ('A.V. Mani Sundaram', 30179, 30198), ('Moderator', 30729, 30739), ('J Abhishek', 30803, 30814), ('Moderator', 32751, 32761), ('G. Sankaran', 32948, 32960), ('Moderator', 37088, 37098), ('Santosh Kumar Saraf', 37170, 37190), ('Moderator', 37290, 37300), ('K.S. Balasubramanian', 37373, 37394), ('Moderator', 43089, 43099), ('Dr. N. Kamakodi', 43195, 43211), ('Shri R. Mohan', 70303, 70317), ('K. Vaidyanathan', 70483, 70499)]\n"
     ]
    }
   ],
   "source": [
    "# Step 3: Extracting location of all EOI\n",
    "entity_span = []\n",
    "for element in filtered_list:\n",
    "    for find_result in re.finditer(str(element) + ':', text):\n",
    "        span = (element, int(find_result.start()), int(find_result.end()))\n",
    "        entity_span.append(span)\n",
    "entity_span = list(set(entity_span))\n",
    "entity_span = sorted(entity_span, key=lambda span_list: span_list[1])\n",
    "print(entity_span)"
   ]
  },
  {
   "cell_type": "code",
   "execution_count": 108,
   "metadata": {},
   "outputs": [],
   "source": [
    "# Step 4: Extracting relevant information based on the EOI\n",
    "\n",
    "desired_columns = [\"Sr.No.\", \"Name\", \"GroupOfSentences\"]\n",
    "information_frame = pd.DataFrame(None, columns=desired_columns)\n",
    "for sequence, entity_information in enumerate(entity_span):\n",
    "    start_index = entity_information[1]\n",
    "    end_index = entity_information[2]\n",
    "    if entity_information[0].lower() == \"management\":\n",
    "        management_string = text[\n",
    "            end_index: entity_span[sequence+1][1]\n",
    "        ].replace(\"<mask>\", \"|\").replace(\"<m>\", \"|\")\n",
    "        management_list = management_string.split(\"|\")\n",
    "        \n",
    "        frame = pd.DataFrame([[sequence, entity_information[0], management_string]], columns=desired_columns)\n",
    "\n",
    "    elif (\"directors\" in entity_information[0].lower()) and (\"board\" in entity_information[0].lower()):\n",
    "        director_string = text[\n",
    "            end_index: entity_span[sequence+1][1]\n",
    "        ].replace(\"<mask>\", \"|\").replace(\"<m>\", \"|\")\n",
    "        director_list = director_string.split(\"|\")\n",
    "\n",
    "        frame = pd.DataFrame([[sequence, entity_information[0], director_string]], columns=desired_columns)\n",
    "\n",
    "    else:\n",
    "        try:\n",
    "            relevant_string = text[\n",
    "                end_index: entity_span[sequence+1][1]\n",
    "            ].replace(\"<mask>\", \" \").replace(\"<m>\", \" \")\n",
    "        except IndexError:\n",
    "            relevant_string = text[\n",
    "                end_index:\n",
    "            ].replace(\"<mask>\", \" \").replace(\"<m>\", \" \")\n",
    "    \n",
    "        frame = pd.DataFrame([[sequence, entity_information[0], relevant_string]], columns=desired_columns)\n",
    "    \n",
    "    information_frame = pd.concat([information_frame, frame], axis=0)"
   ]
  },
  {
   "cell_type": "code",
   "execution_count": 21,
   "metadata": {},
   "outputs": [],
   "source": [
    "# information_frame.to_excel(\"../data/ashok_leyland_concall_transcript.xlsx\", index=False)"
   ]
  },
  {
   "cell_type": "code",
   "execution_count": 109,
   "metadata": {},
   "outputs": [],
   "source": [
    "# Add the NERs to the frame and add a few known NERs\n",
    "for index, row in information_frame.iterrows():\n",
    "#     print(row['Name'], row['Sr.No.'])\n",
    "    for name_properties in ner_list:\n",
    "        if name_properties[0] in row[\"Name\"]:\n",
    "            information_frame.loc[information_frame[\"Name\"] == row[\"Name\"], \"entity\"] = name_properties[1]\n",
    "            break\n",
    "        else:\n",
    "            pass\n",
    "information_frame.loc[\n",
    "                      (information_frame[\"Name\"].str.lower() == \"management\") |\n",
    "                      (information_frame[\"Name\"].str.lower().str.contains(\"moderator\")) |\n",
    "                      (information_frame[\"Name\"].str.lower().str.contains(\"invites\")) | \n",
    "                      (information_frame[\"Name\"].str.lower().str.contains(\"directors\")) | \n",
    "                      (information_frame[\"Name\"].str.lower().str.contains(\"board\")),\n",
    "    \"entity\"] = \"PERSON\""
   ]
  },
  {
   "cell_type": "code",
   "execution_count": 110,
   "metadata": {},
   "outputs": [
    {
     "data": {
      "text/html": [
       "<div>\n",
       "<style scoped>\n",
       "    .dataframe tbody tr th:only-of-type {\n",
       "        vertical-align: middle;\n",
       "    }\n",
       "\n",
       "    .dataframe tbody tr th {\n",
       "        vertical-align: top;\n",
       "    }\n",
       "\n",
       "    .dataframe thead th {\n",
       "        text-align: right;\n",
       "    }\n",
       "</style>\n",
       "<table border=\"1\" class=\"dataframe\">\n",
       "  <thead>\n",
       "    <tr style=\"text-align: right;\">\n",
       "      <th></th>\n",
       "      <th>Sr.No.</th>\n",
       "      <th>Name</th>\n",
       "      <th>GroupOfSentences</th>\n",
       "      <th>entity</th>\n",
       "    </tr>\n",
       "  </thead>\n",
       "  <tbody>\n",
       "    <tr>\n",
       "      <th>0</th>\n",
       "      <td>0</td>\n",
       "      <td>MANAGEMENT</td>\n",
       "      <td>SHRI R. MOHAN – NON-EXECUTIVE CHAIRMAN|DR. N....</td>\n",
       "      <td>PERSON</td>\n",
       "    </tr>\n",
       "    <tr>\n",
       "      <th>0</th>\n",
       "      <td>1</td>\n",
       "      <td>BOARD OF DIRECTORS PRESENT</td>\n",
       "      <td>|SMT. ABARNA BHASKAR – INDEPENDENT DIRECTOR MR...</td>\n",
       "      <td>PERSON</td>\n",
       "    </tr>\n",
       "    <tr>\n",
       "      <th>0</th>\n",
       "      <td>2</td>\n",
       "      <td>SPECIAL INVITES</td>\n",
       "      <td>M/S. SUNDARAM &amp; SRINIVASAN, STATUTORY CENTRA...</td>\n",
       "      <td>PERSON</td>\n",
       "    </tr>\n",
       "    <tr>\n",
       "      <th>0</th>\n",
       "      <td>3</td>\n",
       "      <td>Moderator</td>\n",
       "      <td>Dear Shareholders, good morning and a very wa...</td>\n",
       "      <td>PERSON</td>\n",
       "    </tr>\n",
       "    <tr>\n",
       "      <th>0</th>\n",
       "      <td>4</td>\n",
       "      <td>Shri R. Mohan</td>\n",
       "      <td>Thank you! Let us commence this AGM with Inau...</td>\n",
       "      <td>PERSON</td>\n",
       "    </tr>\n",
       "    <tr>\n",
       "      <th>0</th>\n",
       "      <td>5</td>\n",
       "      <td>V. Ramesh</td>\n",
       "      <td>Hello. Good Morning. Dear members, you are re...</td>\n",
       "      <td>PERSON</td>\n",
       "    </tr>\n",
       "    <tr>\n",
       "      <th>0</th>\n",
       "      <td>6</td>\n",
       "      <td>Shri R. Mohan</td>\n",
       "      <td>Thank you, Ramesh.  CHAIRMAN SPEECH Esteemed ...</td>\n",
       "      <td>PERSON</td>\n",
       "    </tr>\n",
       "    <tr>\n",
       "      <th>0</th>\n",
       "      <td>7</td>\n",
       "      <td>Moderator</td>\n",
       "      <td>Thank you very much. We will now begin the qu...</td>\n",
       "      <td>PERSON</td>\n",
       "    </tr>\n",
       "    <tr>\n",
       "      <th>0</th>\n",
       "      <td>8</td>\n",
       "      <td>Moderator</td>\n",
       "      <td>I now invite Mr. Aspi Bhesania CLID 120125000...</td>\n",
       "      <td>PERSON</td>\n",
       "    </tr>\n",
       "    <tr>\n",
       "      <th>0</th>\n",
       "      <td>9</td>\n",
       "      <td>Aspi Bhesania</td>\n",
       "      <td>Chairman Sir, I'm from Bombay. Sir Resolution...</td>\n",
       "      <td>PERSON</td>\n",
       "    </tr>\n",
       "    <tr>\n",
       "      <th>0</th>\n",
       "      <td>10</td>\n",
       "      <td>Moderator</td>\n",
       "      <td>I now invite Mr. A.V. Mani Sundaram, CLID IN3...</td>\n",
       "      <td>PERSON</td>\n",
       "    </tr>\n",
       "    <tr>\n",
       "      <th>0</th>\n",
       "      <td>11</td>\n",
       "      <td>A.V. Mani Sundaram</td>\n",
       "      <td>I am Mani Sundaram. Welcome all the directors...</td>\n",
       "      <td>PERSON</td>\n",
       "    </tr>\n",
       "    <tr>\n",
       "      <th>0</th>\n",
       "      <td>12</td>\n",
       "      <td>Moderator</td>\n",
       "      <td>I now invite Mr. J. Abhishek, CLID IN30163741...</td>\n",
       "      <td>PERSON</td>\n",
       "    </tr>\n",
       "    <tr>\n",
       "      <th>0</th>\n",
       "      <td>13</td>\n",
       "      <td>J Abhishek</td>\n",
       "      <td>I am Abhishek, shareholder of the company. My...</td>\n",
       "      <td>PERSON</td>\n",
       "    </tr>\n",
       "    <tr>\n",
       "      <th>0</th>\n",
       "      <td>14</td>\n",
       "      <td>Moderator</td>\n",
       "      <td>I now invite Mr. Padmanabhan. CLID IN30131320...</td>\n",
       "      <td>PERSON</td>\n",
       "    </tr>\n",
       "    <tr>\n",
       "      <th>0</th>\n",
       "      <td>15</td>\n",
       "      <td>G. Sankaran</td>\n",
       "      <td>Good   morning   sir.   I   have   lot   of  ...</td>\n",
       "      <td>PERSON</td>\n",
       "    </tr>\n",
       "    <tr>\n",
       "      <th>0</th>\n",
       "      <td>16</td>\n",
       "      <td>Moderator</td>\n",
       "      <td>I now invite Mr. Santosh Kumar Saraf. CLID 12...</td>\n",
       "      <td>PERSON</td>\n",
       "    </tr>\n",
       "    <tr>\n",
       "      <th>0</th>\n",
       "      <td>17</td>\n",
       "      <td>Santosh Kumar Saraf</td>\n",
       "      <td>Respected chairman, all the distinguished boa...</td>\n",
       "      <td>PERSON</td>\n",
       "    </tr>\n",
       "    <tr>\n",
       "      <th>0</th>\n",
       "      <td>18</td>\n",
       "      <td>Moderator</td>\n",
       "      <td>I now invite Mr. K.S. Balasubramanian. CLID I...</td>\n",
       "      <td>PERSON</td>\n",
       "    </tr>\n",
       "    <tr>\n",
       "      <th>0</th>\n",
       "      <td>19</td>\n",
       "      <td>K.S. Balasubramanian</td>\n",
       "      <td>I congratulate the management for the satisfa...</td>\n",
       "      <td>PERSON</td>\n",
       "    </tr>\n",
       "    <tr>\n",
       "      <th>0</th>\n",
       "      <td>20</td>\n",
       "      <td>Moderator</td>\n",
       "      <td>That was the last question. I will now hand o...</td>\n",
       "      <td>PERSON</td>\n",
       "    </tr>\n",
       "    <tr>\n",
       "      <th>0</th>\n",
       "      <td>21</td>\n",
       "      <td>Dr. N. Kamakodi</td>\n",
       "      <td>Esteemed   shareholders   of   our   Bank,   ...</td>\n",
       "      <td>PERSON</td>\n",
       "    </tr>\n",
       "    <tr>\n",
       "      <th>0</th>\n",
       "      <td>22</td>\n",
       "      <td>Shri R. Mohan</td>\n",
       "      <td>I hope you are happy with our M.D. and CEO fo...</td>\n",
       "      <td>PERSON</td>\n",
       "    </tr>\n",
       "    <tr>\n",
       "      <th>0</th>\n",
       "      <td>23</td>\n",
       "      <td>K. Vaidyanathan</td>\n",
       "      <td>Good afternoon. I have the pleasure duty of p...</td>\n",
       "      <td>PERSON</td>\n",
       "    </tr>\n",
       "  </tbody>\n",
       "</table>\n",
       "</div>"
      ],
      "text/plain": [
       "  Sr.No.                        Name  \\\n",
       "0      0                  MANAGEMENT   \n",
       "0      1  BOARD OF DIRECTORS PRESENT   \n",
       "0      2             SPECIAL INVITES   \n",
       "0      3                   Moderator   \n",
       "0      4               Shri R. Mohan   \n",
       "0      5                   V. Ramesh   \n",
       "0      6               Shri R. Mohan   \n",
       "0      7                   Moderator   \n",
       "0      8                   Moderator   \n",
       "0      9               Aspi Bhesania   \n",
       "0     10                   Moderator   \n",
       "0     11          A.V. Mani Sundaram   \n",
       "0     12                   Moderator   \n",
       "0     13                  J Abhishek   \n",
       "0     14                   Moderator   \n",
       "0     15                 G. Sankaran   \n",
       "0     16                   Moderator   \n",
       "0     17         Santosh Kumar Saraf   \n",
       "0     18                   Moderator   \n",
       "0     19        K.S. Balasubramanian   \n",
       "0     20                   Moderator   \n",
       "0     21             Dr. N. Kamakodi   \n",
       "0     22               Shri R. Mohan   \n",
       "0     23             K. Vaidyanathan   \n",
       "\n",
       "                                    GroupOfSentences  entity  \n",
       "0   SHRI R. MOHAN – NON-EXECUTIVE CHAIRMAN|DR. N....  PERSON  \n",
       "0  |SMT. ABARNA BHASKAR – INDEPENDENT DIRECTOR MR...  PERSON  \n",
       "0    M/S. SUNDARAM & SRINIVASAN, STATUTORY CENTRA...  PERSON  \n",
       "0   Dear Shareholders, good morning and a very wa...  PERSON  \n",
       "0   Thank you! Let us commence this AGM with Inau...  PERSON  \n",
       "0   Hello. Good Morning. Dear members, you are re...  PERSON  \n",
       "0   Thank you, Ramesh.  CHAIRMAN SPEECH Esteemed ...  PERSON  \n",
       "0   Thank you very much. We will now begin the qu...  PERSON  \n",
       "0   I now invite Mr. Aspi Bhesania CLID 120125000...  PERSON  \n",
       "0   Chairman Sir, I'm from Bombay. Sir Resolution...  PERSON  \n",
       "0   I now invite Mr. A.V. Mani Sundaram, CLID IN3...  PERSON  \n",
       "0   I am Mani Sundaram. Welcome all the directors...  PERSON  \n",
       "0   I now invite Mr. J. Abhishek, CLID IN30163741...  PERSON  \n",
       "0   I am Abhishek, shareholder of the company. My...  PERSON  \n",
       "0   I now invite Mr. Padmanabhan. CLID IN30131320...  PERSON  \n",
       "0   Good   morning   sir.   I   have   lot   of  ...  PERSON  \n",
       "0   I now invite Mr. Santosh Kumar Saraf. CLID 12...  PERSON  \n",
       "0   Respected chairman, all the distinguished boa...  PERSON  \n",
       "0   I now invite Mr. K.S. Balasubramanian. CLID I...  PERSON  \n",
       "0   I congratulate the management for the satisfa...  PERSON  \n",
       "0   That was the last question. I will now hand o...  PERSON  \n",
       "0   Esteemed   shareholders   of   our   Bank,   ...  PERSON  \n",
       "0   I hope you are happy with our M.D. and CEO fo...  PERSON  \n",
       "0   Good afternoon. I have the pleasure duty of p...  PERSON  "
      ]
     },
     "execution_count": 110,
     "metadata": {},
     "output_type": "execute_result"
    }
   ],
   "source": [
    "information_frame"
   ]
  },
  {
   "cell_type": "code",
   "execution_count": null,
   "metadata": {},
   "outputs": [],
   "source": []
  },
  {
   "cell_type": "code",
   "execution_count": null,
   "metadata": {},
   "outputs": [],
   "source": []
  }
 ],
 "metadata": {
  "interpreter": {
   "hash": "12466f790b01845891e8c54f2878097070b87efd364ef8a7c7054cc189b73841"
  },
  "kernelspec": {
   "display_name": "Python 3.9.1 64-bit ('con_summary_env': venv)",
   "language": "python",
   "name": "python391jvsc74a57bd012466f790b01845891e8c54f2878097070b87efd364ef8a7c7054cc189b73841"
  },
  "language_info": {
   "codemirror_mode": {
    "name": "ipython",
    "version": 3
   },
   "file_extension": ".py",
   "mimetype": "text/x-python",
   "name": "python",
   "nbconvert_exporter": "python",
   "pygments_lexer": "ipython3",
   "version": "3.9.1"
  }
 },
 "nbformat": 4,
 "nbformat_minor": 4
}
