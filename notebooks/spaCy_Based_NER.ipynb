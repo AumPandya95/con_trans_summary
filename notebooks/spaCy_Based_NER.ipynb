{
 "cells": [
  {
   "cell_type": "markdown",
   "metadata": {
    "id": "5Pl6bziTOGsI"
   },
   "source": [
    "Run the code after Runtime > \"Factory reset runtime\"\n",
    "\n",
    "A factory reset deletes all previously downloaded packages and models"
   ]
  },
  {
   "cell_type": "code",
   "execution_count": 1,
   "metadata": {
    "executionInfo": {
     "elapsed": 20465,
     "status": "ok",
     "timestamp": 1635582996683,
     "user": {
      "displayName": "Vivek Jayaswal",
      "photoUrl": "https://lh3.googleusercontent.com/a/default-user=s64",
      "userId": "07386092584236149418"
     },
     "user_tz": -330
    },
    "id": "TIRskGbYdr4r"
   },
   "outputs": [],
   "source": [
    "# Upgrade to version>= 3.0\n",
    "!pip install -U spacy>=3.0.0"
   ]
  },
  {
   "cell_type": "code",
   "execution_count": 10,
   "metadata": {
    "colab": {
     "base_uri": "https://localhost:8080/",
     "height": 36
    },
    "executionInfo": {
     "elapsed": 28375,
     "status": "ok",
     "timestamp": 1635583025044,
     "user": {
      "displayName": "Vivek Jayaswal",
      "photoUrl": "https://lh3.googleusercontent.com/a/default-user=s64",
      "userId": "07386092584236149418"
     },
     "user_tz": -330
    },
    "id": "2FSrXGaAeIgi",
    "outputId": "b986209b-970c-4da0-b3d5-c58f2c9b8157"
   },
   "outputs": [
    {
     "data": {
      "text/plain": [
       "'3.1.3'"
      ]
     },
     "execution_count": 10,
     "metadata": {},
     "output_type": "execute_result"
    }
   ],
   "source": [
    "import spacy\n",
    "spacy.__version__"
   ]
  },
  {
   "cell_type": "code",
   "execution_count": 2,
   "metadata": {
    "executionInfo": {
     "elapsed": 28,
     "status": "ok",
     "timestamp": 1635583025047,
     "user": {
      "displayName": "Vivek Jayaswal",
      "photoUrl": "https://lh3.googleusercontent.com/a/default-user=s64",
      "userId": "07386092584236149418"
     },
     "user_tz": -330
    },
    "id": "Xq-7qFu0fPIr"
   },
   "outputs": [],
   "source": [
    "import pandas as pd\n",
    "import numpy as np"
   ]
  },
  {
   "cell_type": "code",
   "execution_count": 3,
   "metadata": {
    "colab": {
     "base_uri": "https://localhost:8080/"
    },
    "executionInfo": {
     "elapsed": 10568,
     "status": "ok",
     "timestamp": 1635583035590,
     "user": {
      "displayName": "Vivek Jayaswal",
      "photoUrl": "https://lh3.googleusercontent.com/a/default-user=s64",
      "userId": "07386092584236149418"
     },
     "user_tz": -330
    },
    "id": "mlUFwlFFbtT6",
    "outputId": "6fb6226b-4682-435d-cc0b-b20d70cee275"
   },
   "outputs": [],
   "source": [
    "# !python -m spacy download en_core_web_sm\n",
    "nlp_spacy = spacy.load(\"en_core_web_sm\")"
   ]
  },
  {
   "cell_type": "code",
   "execution_count": 4,
   "metadata": {
    "executionInfo": {
     "elapsed": 21,
     "status": "ok",
     "timestamp": 1635583035592,
     "user": {
      "displayName": "Vivek Jayaswal",
      "photoUrl": "https://lh3.googleusercontent.com/a/default-user=s64",
      "userId": "07386092584236149418"
     },
     "user_tz": -330
    },
    "id": "SlS16DoacQBr"
   },
   "outputs": [],
   "source": [
    "example = \"To take us through this results of the quarter and answer your question, we have with us the from the top \\\n",
    "Management of Heranba, Mr. R. K. Shetty - Managing Director; Mr. Raunak Shetty - Executive Director, and \\\n",
    "Mr. Raj Kumar Bafna - Chief Financial Officer.\""
   ]
  },
  {
   "cell_type": "markdown",
   "metadata": {
    "id": "qt6ipQ9Pb62P"
   },
   "source": [
    "### Approach 1: Use of spaCy's NER for identifying the names of individuals in a given sentence using the non-transformer model"
   ]
  },
  {
   "cell_type": "code",
   "execution_count": 6,
   "metadata": {
    "colab": {
     "base_uri": "https://localhost:8080/"
    },
    "executionInfo": {
     "elapsed": 20,
     "status": "ok",
     "timestamp": 1635583035594,
     "user": {
      "displayName": "Vivek Jayaswal",
      "photoUrl": "https://lh3.googleusercontent.com/a/default-user=s64",
      "userId": "07386092584236149418"
     },
     "user_tz": -330
    },
    "id": "VhnnuWRmchjT",
    "outputId": "a20b6b33-f974-4a63-facb-a9eed7f80d4c"
   },
   "outputs": [
    {
     "name": "stdout",
     "output_type": "stream",
     "text": [
      "the quarter 35 46 DATE\n",
      "Management of Heranba 106 127 ORG\n",
      "R. K. Shetty - Managing 133 156 PERSON\n",
      "Raunak Shetty - Executive 171 196 PERSON\n",
      "Raj Kumar Bafna - Chief 215 238 PERSON\n"
     ]
    }
   ],
   "source": [
    "doc_spacy = nlp_spacy(example)\n",
    "\n",
    "for token in doc_spacy.ents:\n",
    "    print(token.text, token.start_char, token.end_char, token.label_)\n",
    "\n",
    "# Output generated using spaCy version 2.2.4\n",
    "# the quarter 35 46 DATE\n",
    "# the top Management of Heranba 98 127 ORG\n",
    "# R. K. Shetty - Managing Director 133 165 PERSON\n",
    "# Raunak Shetty - Executive 171 196 PERSON\n",
    "# Raj Kumar 215 224 PERSON\n",
    "\n",
    "# Output generated using spaCy version 3.1.4\n",
    "# the quarter 35 46 DATE\n",
    "# Management of Heranba 106 127 ORG\n",
    "# R. K. Shetty - Managing 133 156 PERSON\n",
    "# Raunak Shetty - Executive 171 196 PERSON\n",
    "# Raj Kumar Bafna - Chief 215 238 PERSON\n"
   ]
  },
  {
   "cell_type": "markdown",
   "metadata": {
    "id": "LBW8uFnq59_p"
   },
   "source": [
    "### Approach 2: Use of spaCy's NER for identifying the names of individuals in a given sentence using the transformer model\n",
    "\n",
    "1.   spaCy uses an older vesion of Huggingface transformer (transformers<4.10.0,>=3.4.0) so this model should not be downloaded if the transformers library is required for other tasks\n",
    "2.   spaCy transformer is better than non-transformer for the example sentence\n",
    "\n",
    "\n",
    "\n"
   ]
  },
  {
   "cell_type": "code",
   "execution_count": 6,
   "metadata": {
    "colab": {
     "base_uri": "https://localhost:8080/"
    },
    "executionInfo": {
     "elapsed": 47813,
     "status": "ok",
     "timestamp": 1635583083394,
     "user": {
      "displayName": "Vivek Jayaswal",
      "photoUrl": "https://lh3.googleusercontent.com/a/default-user=s64",
      "userId": "07386092584236149418"
     },
     "user_tz": -330
    },
    "id": "tQQr0sO3PGzO",
    "outputId": "de0824fd-647b-402b-a45b-534e0e484281"
   },
   "outputs": [
    {
     "name": "stdout",
     "output_type": "stream",
     "text": [
      "Collecting en-core-web-trf==3.1.0\n",
      "  Downloading https://github.com/explosion/spacy-models/releases/download/en_core_web_trf-3.1.0/en_core_web_trf-3.1.0-py3-none-any.whl (460.2 MB)\n",
      "     |████████████████████████████████| 460.2 MB 2.4 kB/s            \n",
      "\u001b[?25hRequirement already satisfied: spacy<3.2.0,>=3.1.0 in /home/aum/Desktop/projects/con_trans_summary/con_summary_env/lib/python3.9/site-packages (from en-core-web-trf==3.1.0) (3.1.3)\n",
      "Collecting spacy-transformers<1.1.0,>=1.0.3\n",
      "  Downloading spacy_transformers-1.0.6-py2.py3-none-any.whl (42 kB)\n",
      "     |████████████████████████████████| 42 kB 1.6 MB/s            \n",
      "\u001b[?25hRequirement already satisfied: tqdm<5.0.0,>=4.38.0 in /home/aum/Desktop/projects/con_trans_summary/con_summary_env/lib/python3.9/site-packages (from spacy<3.2.0,>=3.1.0->en-core-web-trf==3.1.0) (4.62.3)\n",
      "Requirement already satisfied: setuptools in /home/aum/Desktop/projects/con_trans_summary/con_summary_env/lib/python3.9/site-packages (from spacy<3.2.0,>=3.1.0->en-core-web-trf==3.1.0) (58.3.0)\n",
      "Requirement already satisfied: pydantic!=1.8,!=1.8.1,<1.9.0,>=1.7.4 in /home/aum/Desktop/projects/con_trans_summary/con_summary_env/lib/python3.9/site-packages (from spacy<3.2.0,>=3.1.0->en-core-web-trf==3.1.0) (1.8.2)\n",
      "Requirement already satisfied: packaging>=20.0 in /home/aum/Desktop/projects/con_trans_summary/con_summary_env/lib/python3.9/site-packages (from spacy<3.2.0,>=3.1.0->en-core-web-trf==3.1.0) (21.0)\n",
      "Requirement already satisfied: typer<0.5.0,>=0.3.0 in /home/aum/Desktop/projects/con_trans_summary/con_summary_env/lib/python3.9/site-packages (from spacy<3.2.0,>=3.1.0->en-core-web-trf==3.1.0) (0.4.0)\n",
      "Requirement already satisfied: blis<0.8.0,>=0.4.0 in /home/aum/Desktop/projects/con_trans_summary/con_summary_env/lib/python3.9/site-packages (from spacy<3.2.0,>=3.1.0->en-core-web-trf==3.1.0) (0.7.5)\n",
      "Requirement already satisfied: srsly<3.0.0,>=2.4.1 in /home/aum/Desktop/projects/con_trans_summary/con_summary_env/lib/python3.9/site-packages (from spacy<3.2.0,>=3.1.0->en-core-web-trf==3.1.0) (2.4.2)\n",
      "Requirement already satisfied: requests<3.0.0,>=2.13.0 in /home/aum/Desktop/projects/con_trans_summary/con_summary_env/lib/python3.9/site-packages (from spacy<3.2.0,>=3.1.0->en-core-web-trf==3.1.0) (2.26.0)\n",
      "Requirement already satisfied: thinc<8.1.0,>=8.0.9 in /home/aum/Desktop/projects/con_trans_summary/con_summary_env/lib/python3.9/site-packages (from spacy<3.2.0,>=3.1.0->en-core-web-trf==3.1.0) (8.0.11)\n",
      "Requirement already satisfied: spacy-legacy<3.1.0,>=3.0.8 in /home/aum/Desktop/projects/con_trans_summary/con_summary_env/lib/python3.9/site-packages (from spacy<3.2.0,>=3.1.0->en-core-web-trf==3.1.0) (3.0.8)\n",
      "Requirement already satisfied: numpy>=1.15.0 in /home/aum/Desktop/projects/con_trans_summary/con_summary_env/lib/python3.9/site-packages (from spacy<3.2.0,>=3.1.0->en-core-web-trf==3.1.0) (1.21.3)\n",
      "Requirement already satisfied: cymem<2.1.0,>=2.0.2 in /home/aum/Desktop/projects/con_trans_summary/con_summary_env/lib/python3.9/site-packages (from spacy<3.2.0,>=3.1.0->en-core-web-trf==3.1.0) (2.0.6)\n",
      "Requirement already satisfied: preshed<3.1.0,>=3.0.2 in /home/aum/Desktop/projects/con_trans_summary/con_summary_env/lib/python3.9/site-packages (from spacy<3.2.0,>=3.1.0->en-core-web-trf==3.1.0) (3.0.6)\n",
      "Requirement already satisfied: pathy>=0.3.5 in /home/aum/Desktop/projects/con_trans_summary/con_summary_env/lib/python3.9/site-packages (from spacy<3.2.0,>=3.1.0->en-core-web-trf==3.1.0) (0.6.0)\n",
      "Requirement already satisfied: jinja2 in /home/aum/Desktop/projects/con_trans_summary/con_summary_env/lib/python3.9/site-packages (from spacy<3.2.0,>=3.1.0->en-core-web-trf==3.1.0) (3.0.2)\n",
      "Requirement already satisfied: catalogue<2.1.0,>=2.0.6 in /home/aum/Desktop/projects/con_trans_summary/con_summary_env/lib/python3.9/site-packages (from spacy<3.2.0,>=3.1.0->en-core-web-trf==3.1.0) (2.0.6)\n",
      "Requirement already satisfied: wasabi<1.1.0,>=0.8.1 in /home/aum/Desktop/projects/con_trans_summary/con_summary_env/lib/python3.9/site-packages (from spacy<3.2.0,>=3.1.0->en-core-web-trf==3.1.0) (0.8.2)\n",
      "Requirement already satisfied: murmurhash<1.1.0,>=0.28.0 in /home/aum/Desktop/projects/con_trans_summary/con_summary_env/lib/python3.9/site-packages (from spacy<3.2.0,>=3.1.0->en-core-web-trf==3.1.0) (1.0.6)\n",
      "Collecting spacy-alignments<1.0.0,>=0.7.2\n",
      "  Downloading spacy_alignments-0.8.3-cp39-cp39-manylinux2014_x86_64.whl (998 kB)\n",
      "     |████████████████████████████████| 998 kB 500 kB/s            \n",
      "\u001b[?25hCollecting transformers<4.10.0,>=3.4.0\n",
      "  Downloading transformers-4.9.2-py3-none-any.whl (2.6 MB)\n",
      "     |████████████████████████████████| 2.6 MB 2.0 MB/s            \n",
      "\u001b[?25hRequirement already satisfied: torch>=1.5.0 in /home/aum/Desktop/projects/con_trans_summary/con_summary_env/lib/python3.9/site-packages (from spacy-transformers<1.1.0,>=1.0.3->en-core-web-trf==3.1.0) (1.10.0)\n",
      "Requirement already satisfied: pyparsing>=2.0.2 in /home/aum/Desktop/projects/con_trans_summary/con_summary_env/lib/python3.9/site-packages (from packaging>=20.0->spacy<3.2.0,>=3.1.0->en-core-web-trf==3.1.0) (3.0.1)\n",
      "Requirement already satisfied: smart-open<6.0.0,>=5.0.0 in /home/aum/Desktop/projects/con_trans_summary/con_summary_env/lib/python3.9/site-packages (from pathy>=0.3.5->spacy<3.2.0,>=3.1.0->en-core-web-trf==3.1.0) (5.2.1)\n",
      "Requirement already satisfied: typing-extensions>=3.7.4.3 in /home/aum/Desktop/projects/con_trans_summary/con_summary_env/lib/python3.9/site-packages (from pydantic!=1.8,!=1.8.1,<1.9.0,>=1.7.4->spacy<3.2.0,>=3.1.0->en-core-web-trf==3.1.0) (3.10.0.2)\n",
      "Requirement already satisfied: idna<4,>=2.5 in /home/aum/Desktop/projects/con_trans_summary/con_summary_env/lib/python3.9/site-packages (from requests<3.0.0,>=2.13.0->spacy<3.2.0,>=3.1.0->en-core-web-trf==3.1.0) (3.3)\n",
      "Requirement already satisfied: charset-normalizer~=2.0.0 in /home/aum/Desktop/projects/con_trans_summary/con_summary_env/lib/python3.9/site-packages (from requests<3.0.0,>=2.13.0->spacy<3.2.0,>=3.1.0->en-core-web-trf==3.1.0) (2.0.7)\n",
      "Requirement already satisfied: urllib3<1.27,>=1.21.1 in /home/aum/Desktop/projects/con_trans_summary/con_summary_env/lib/python3.9/site-packages (from requests<3.0.0,>=2.13.0->spacy<3.2.0,>=3.1.0->en-core-web-trf==3.1.0) (1.26.7)\n",
      "Requirement already satisfied: certifi>=2017.4.17 in /home/aum/Desktop/projects/con_trans_summary/con_summary_env/lib/python3.9/site-packages (from requests<3.0.0,>=2.13.0->spacy<3.2.0,>=3.1.0->en-core-web-trf==3.1.0) (2021.10.8)\n",
      "Requirement already satisfied: regex!=2019.12.17 in /home/aum/Desktop/projects/con_trans_summary/con_summary_env/lib/python3.9/site-packages (from transformers<4.10.0,>=3.4.0->spacy-transformers<1.1.0,>=1.0.3->en-core-web-trf==3.1.0) (2021.10.23)\n",
      "Requirement already satisfied: tokenizers<0.11,>=0.10.1 in /home/aum/Desktop/projects/con_trans_summary/con_summary_env/lib/python3.9/site-packages (from transformers<4.10.0,>=3.4.0->spacy-transformers<1.1.0,>=1.0.3->en-core-web-trf==3.1.0) (0.10.3)\n",
      "Requirement already satisfied: filelock in /home/aum/Desktop/projects/con_trans_summary/con_summary_env/lib/python3.9/site-packages (from transformers<4.10.0,>=3.4.0->spacy-transformers<1.1.0,>=1.0.3->en-core-web-trf==3.1.0) (3.3.1)\n",
      "Requirement already satisfied: sacremoses in /home/aum/Desktop/projects/con_trans_summary/con_summary_env/lib/python3.9/site-packages (from transformers<4.10.0,>=3.4.0->spacy-transformers<1.1.0,>=1.0.3->en-core-web-trf==3.1.0) (0.0.46)\n",
      "Collecting huggingface-hub==0.0.12\n",
      "  Downloading huggingface_hub-0.0.12-py3-none-any.whl (37 kB)\n",
      "Requirement already satisfied: pyyaml>=5.1 in /home/aum/Desktop/projects/con_trans_summary/con_summary_env/lib/python3.9/site-packages (from transformers<4.10.0,>=3.4.0->spacy-transformers<1.1.0,>=1.0.3->en-core-web-trf==3.1.0) (6.0)\n",
      "Requirement already satisfied: click<9.0.0,>=7.1.1 in /home/aum/Desktop/projects/con_trans_summary/con_summary_env/lib/python3.9/site-packages (from typer<0.5.0,>=0.3.0->spacy<3.2.0,>=3.1.0->en-core-web-trf==3.1.0) (8.0.3)\n",
      "Requirement already satisfied: MarkupSafe>=2.0 in /home/aum/Desktop/projects/con_trans_summary/con_summary_env/lib/python3.9/site-packages (from jinja2->spacy<3.2.0,>=3.1.0->en-core-web-trf==3.1.0) (2.0.1)\n",
      "Requirement already satisfied: six in /home/aum/Desktop/projects/con_trans_summary/con_summary_env/lib/python3.9/site-packages (from sacremoses->transformers<4.10.0,>=3.4.0->spacy-transformers<1.1.0,>=1.0.3->en-core-web-trf==3.1.0) (1.16.0)\n",
      "Requirement already satisfied: joblib in /home/aum/Desktop/projects/con_trans_summary/con_summary_env/lib/python3.9/site-packages (from sacremoses->transformers<4.10.0,>=3.4.0->spacy-transformers<1.1.0,>=1.0.3->en-core-web-trf==3.1.0) (1.1.0)\n"
     ]
    },
    {
     "name": "stdout",
     "output_type": "stream",
     "text": [
      "Installing collected packages: huggingface-hub, transformers, spacy-alignments, spacy-transformers, en-core-web-trf\n",
      "  Attempting uninstall: huggingface-hub\n",
      "    Found existing installation: huggingface-hub 0.0.19\n",
      "    Uninstalling huggingface-hub-0.0.19:\n",
      "      Successfully uninstalled huggingface-hub-0.0.19\n",
      "  Attempting uninstall: transformers\n",
      "    Found existing installation: transformers 4.11.3\n",
      "    Uninstalling transformers-4.11.3:\n",
      "      Successfully uninstalled transformers-4.11.3\n",
      "Successfully installed en-core-web-trf-3.1.0 huggingface-hub-0.0.12 spacy-alignments-0.8.3 spacy-transformers-1.0.6 transformers-4.9.2\n",
      "\u001b[38;5;2m✔ Download and installation successful\u001b[0m\n",
      "You can now load the package via spacy.load('en_core_web_trf')\n"
     ]
    }
   ],
   "source": [
    "!python -m spacy download en_core_web_trf"
   ]
  },
  {
   "cell_type": "code",
   "execution_count": 9,
   "metadata": {
    "executionInfo": {
     "elapsed": 1813,
     "status": "ok",
     "timestamp": 1635583085199,
     "user": {
      "displayName": "Vivek Jayaswal",
      "photoUrl": "https://lh3.googleusercontent.com/a/default-user=s64",
      "userId": "07386092584236149418"
     },
     "user_tz": -330
    },
    "id": "oMvo4gNq2okU"
   },
   "outputs": [],
   "source": [
    "import spacy_transformers\n",
    "nlp_spacy_trf = spacy.load(\"en_core_web_trf\")"
   ]
  },
  {
   "cell_type": "code",
   "execution_count": 8,
   "metadata": {
    "colab": {
     "base_uri": "https://localhost:8080/"
    },
    "executionInfo": {
     "elapsed": 652,
     "status": "ok",
     "timestamp": 1635583085836,
     "user": {
      "displayName": "Vivek Jayaswal",
      "photoUrl": "https://lh3.googleusercontent.com/a/default-user=s64",
      "userId": "07386092584236149418"
     },
     "user_tz": -330
    },
    "id": "itCJltol3Iaj",
    "outputId": "5e72e78c-d879-45d2-e771-e31f50134ab4"
   },
   "outputs": [
    {
     "name": "stdout",
     "output_type": "stream",
     "text": [
      "the quarter 35 46 DATE\n",
      "Heranba 120 127 ORG\n",
      "R. K. Shetty 133 145 PERSON\n",
      "Raunak Shetty 171 184 PERSON\n",
      "Raj Kumar Bafna 215 230 PERSON\n"
     ]
    },
    {
     "name": "stderr",
     "output_type": "stream",
     "text": [
      "/home/aum/Desktop/projects/con_trans_summary/con_summary_env/lib/python3.9/site-packages/torch/autocast_mode.py:141: UserWarning: User provided device_type of 'cuda', but CUDA is not available. Disabling\n",
      "  warnings.warn('User provided device_type of \\'cuda\\', but CUDA is not available. Disabling')\n"
     ]
    }
   ],
   "source": [
    "doc_spacy_trf = nlp_spacy_trf(example)\n",
    "\n",
    "for token in doc_spacy_trf.ents:\n",
    "    print(token.text, token.start_char, token.end_char, token.label_)\n",
    "\n",
    "# the quarter 35 46 DATE\n",
    "# Heranba 120 127 ORG\n",
    "# R. K. Shetty 133 145 PERSON\n",
    "# Raunak Shetty 171 184 PERSON\n",
    "# Raj Kumar Bafna 215 230 PERSON    "
   ]
  },
  {
   "cell_type": "code",
   "execution_count": null,
   "metadata": {},
   "outputs": [],
   "source": []
  }
 ],
 "metadata": {
  "colab": {
   "authorship_tag": "ABX9TyNxPKesQPppduldVTG6C1Un",
   "collapsed_sections": [],
   "name": "spaCy_Based_NER.ipynb",
   "provenance": [
    {
     "file_id": "1hgPO-JlPbH9sONNSIFC0qtOK5RnxzOlR",
     "timestamp": 1635568768119
    }
   ]
  },
  "kernelspec": {
   "display_name": "Python 3.9.1 64-bit ('con_summary_env': venv)",
   "language": "python",
   "name": "python391jvsc74a57bd012466f790b01845891e8c54f2878097070b87efd364ef8a7c7054cc189b73841"
  },
  "language_info": {
   "codemirror_mode": {
    "name": "ipython",
    "version": 3
   },
   "file_extension": ".py",
   "mimetype": "text/x-python",
   "name": "python",
   "nbconvert_exporter": "python",
   "pygments_lexer": "ipython3",
   "version": "3.9.1"
  }
 },
 "nbformat": 4,
 "nbformat_minor": 1
}
