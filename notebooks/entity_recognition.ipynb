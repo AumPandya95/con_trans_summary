{
 "cells": [
  {
   "cell_type": "code",
   "execution_count": 8,
   "metadata": {},
   "outputs": [
    {
     "data": {
      "text/plain": [
       "<function spacy.pipeline.functions.merge_noun_chunks(doc: spacy.tokens.doc.Doc) -> spacy.tokens.doc.Doc>"
      ]
     },
     "execution_count": 8,
     "metadata": {},
     "output_type": "execute_result"
    }
   ],
   "source": [
    "import spacy\n",
    "import en_core_web_trf\n",
    "nlp_spacy_trf = en_core_web_trf.load()\n",
    "nlp_spacy_trf.add_pipe(\"merge_noun_chunks\")"
   ]
  },
  {
   "cell_type": "code",
   "execution_count": 5,
   "metadata": {},
   "outputs": [
    {
     "data": {
      "text/plain": [
       "<function spacy.pipeline.functions.merge_noun_chunks(doc: spacy.tokens.doc.Doc) -> spacy.tokens.doc.Doc>"
      ]
     },
     "execution_count": 5,
     "metadata": {},
     "output_type": "execute_result"
    }
   ],
   "source": [
    "import en_core_web_lg\n",
    "nlp_spacy_lg = en_core_web_lg.load()\n",
    "nlp_spacy_lg.add_pipe(\"merge_noun_chunks\")"
   ]
  },
  {
   "cell_type": "code",
   "execution_count": 9,
   "metadata": {},
   "outputs": [
    {
     "name": "stdout",
     "output_type": "stream",
     "text": [
      "Total Profit -> NOUN\n",
      "in -> ADP\n",
      "the last 12 months -> NOUN\n",
      "\n",
      "\n",
      "Country -> NOUN -> \n",
      "with -> ADP -> \n",
      "the highest monthly percentage decline -> NOUN -> \n",
      "in -> ADP -> \n",
      "Total Profit -> NOUN -> \n",
      "in -> ADP -> \n",
      "the last 3 months -> NOUN -> DATE\n"
     ]
    },
    {
     "name": "stderr",
     "output_type": "stream",
     "text": [
      "/home/aum/Desktop/projects/con_trans_summary/con_summary_env/lib/python3.9/site-packages/torch/autocast_mode.py:141: UserWarning: User provided device_type of 'cuda', but CUDA is not available. Disabling\n",
      "  warnings.warn('User provided device_type of \\'cuda\\', but CUDA is not available. Disabling')\n"
     ]
    }
   ],
   "source": [
    "doc = \"Total Profit in the last 12 months\"\n",
    "doc1 = \"Country with the highest monthly percentage decline in Total Profit in the last 3 months\"\n",
    "nlp_doc = nlp_spacy_trf(doc)\n",
    "nlp_doc1 = nlp_spacy_trf(doc1)\n",
    "\n",
    "for _token in nlp_doc:\n",
    "    print(f\"{_token.text} -> {_token.pos_}\")\n",
    "print(\"\\n\")\n",
    "for _token in nlp_doc1:\n",
    "    print(f\"{_token.text} -> {_token.pos_} -> {_token.ent_type_}\")"
   ]
  },
  {
   "cell_type": "code",
   "execution_count": 7,
   "metadata": {},
   "outputs": [
    {
     "name": "stdout",
     "output_type": "stream",
     "text": [
      "Total Profit -> PROPN\n",
      "in -> ADP\n",
      "the last 12 months -> NOUN\n",
      "\n",
      "\n",
      "Country -> NOUN -> \n",
      "with -> ADP -> \n",
      "the highest monthly percentage decline -> NOUN -> \n",
      "in -> ADP -> \n",
      "Total Profit -> PROPN -> ORG\n",
      "in -> ADP -> \n",
      "the last 3 months -> NOUN -> DATE\n"
     ]
    }
   ],
   "source": [
    "doc = \"Total Profit in the last 12 months\"\n",
    "doc1 = \"Country with the highest monthly percentage decline in Total Profit in the last 3 months\"\n",
    "nlp_doc = nlp_spacy_lg(doc)\n",
    "nlp_doc1 = nlp_spacy_lg(doc1)\n",
    "\n",
    "for _token in nlp_doc:\n",
    "    print(f\"{_token.text} -> {_token.pos_}\")\n",
    "print(\"\\n\")\n",
    "for _token in nlp_doc1:\n",
    "    print(f\"{_token.text} -> {_token.pos_} -> {_token.ent_type_}\")"
   ]
  },
  {
   "cell_type": "code",
   "execution_count": null,
   "metadata": {},
   "outputs": [],
   "source": []
  }
 ],
 "metadata": {
  "interpreter": {
   "hash": "12466f790b01845891e8c54f2878097070b87efd364ef8a7c7054cc189b73841"
  },
  "kernelspec": {
   "display_name": "Python 3.9.1 64-bit ('con_summary_env': venv)",
   "language": "python",
   "name": "python3"
  },
  "language_info": {
   "codemirror_mode": {
    "name": "ipython",
    "version": 3
   },
   "file_extension": ".py",
   "mimetype": "text/x-python",
   "name": "python",
   "nbconvert_exporter": "python",
   "pygments_lexer": "ipython3",
   "version": "3.9.1"
  }
 },
 "nbformat": 4,
 "nbformat_minor": 2
}
