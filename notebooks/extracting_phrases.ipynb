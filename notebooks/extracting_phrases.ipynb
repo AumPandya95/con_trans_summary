{
 "cells": [
  {
   "cell_type": "code",
   "execution_count": 1,
   "metadata": {},
   "outputs": [],
   "source": [
    "import spacy\n",
    "from spacy.matcher import Matcher \n",
    "from spacy.tokens import Span \n",
    "from spacy import displacy "
   ]
  },
  {
   "cell_type": "code",
   "execution_count": 2,
   "metadata": {},
   "outputs": [],
   "source": [
    "# load spaCy model\n",
    "nlp = spacy.load(\"en_core_web_sm\")"
   ]
  },
  {
   "cell_type": "code",
   "execution_count": 6,
   "metadata": {},
   "outputs": [],
   "source": [
    "# sample text \n",
    "text = \"If you could talk us through, how is the truck profitability looking like, purely from a gross margin perspective, I understand there will be operating effects there.\" \n",
    "\n",
    "# create a spaCy object \n",
    "doc = nlp(text)"
   ]
  },
  {
   "cell_type": "code",
   "execution_count": 7,
   "metadata": {},
   "outputs": [
    {
     "data": {
      "text/plain": [
       "If you could talk us through, how is the truck profitability looking like, purely from a gross margin perspective, I understand there will be operating effects there."
      ]
     },
     "execution_count": 7,
     "metadata": {},
     "output_type": "execute_result"
    }
   ],
   "source": [
    "doc"
   ]
  },
  {
   "cell_type": "code",
   "execution_count": 32,
   "metadata": {},
   "outputs": [
    {
     "name": "stdout",
     "output_type": "stream",
     "text": [
      "If ---> mark ---> SCONJ\n",
      "you ---> nsubj ---> PRON\n",
      "could ---> aux ---> AUX\n",
      "talk ---> advcl ---> VERB\n",
      "us ---> dobj ---> PRON\n",
      "through ---> prt ---> ADP\n",
      ", ---> punct ---> PUNCT\n",
      "how ---> advmod ---> ADV\n",
      "is ---> aux ---> AUX\n",
      "the ---> det ---> DET\n",
      "truck ---> compound ---> NOUN\n",
      "profitability ---> nsubj ---> NOUN\n",
      "looking ---> advcl ---> VERB\n",
      "like ---> prep ---> ADP\n",
      ", ---> punct ---> PUNCT\n",
      "purely ---> advmod ---> ADV\n",
      "from ---> prep ---> ADP\n",
      "a ---> det ---> DET\n",
      "gross ---> amod ---> ADJ\n",
      "margin ---> compound ---> NOUN\n",
      "perspective ---> pobj ---> NOUN\n",
      ", ---> punct ---> PUNCT\n",
      "I ---> nsubj ---> PRON\n",
      "understand ---> ROOT ---> VERB\n",
      "there ---> expl ---> PRON\n",
      "will ---> aux ---> AUX\n",
      "be ---> ccomp ---> VERB\n",
      "operating ---> compound ---> VERB\n",
      "effects ---> attr ---> NOUN\n",
      "there ---> advmod ---> ADV\n",
      ". ---> punct ---> PUNCT\n"
     ]
    }
   ],
   "source": [
    "for tok in doc:\n",
    "    print(tok.text, \"--->\", tok.dep_, \"--->\", tok.pos_)"
   ]
  },
  {
   "cell_type": "code",
   "execution_count": 20,
   "metadata": {},
   "outputs": [
    {
     "data": {
      "text/plain": [
       "['PRP', 'PRP', 'NN', 'NN', 'PRP', 'NNS']"
      ]
     },
     "execution_count": 20,
     "metadata": {},
     "output_type": "execute_result"
    }
   ],
   "source": [
    "[a.root.tag_ for a in list(doc.noun_chunks)]"
   ]
  },
  {
   "cell_type": "code",
   "execution_count": 21,
   "metadata": {},
   "outputs": [
    {
     "data": {
      "text/plain": [
       "[you,\n",
       " us,\n",
       " the truck profitability,\n",
       " a gross margin perspective,\n",
       " I,\n",
       " operating effects]"
      ]
     },
     "execution_count": 21,
     "metadata": {},
     "output_type": "execute_result"
    }
   ],
   "source": [
    "list(doc.noun_chunks)"
   ]
  },
  {
   "cell_type": "markdown",
   "metadata": {},
   "source": [
    "### merge_noun_chunks"
   ]
  },
  {
   "cell_type": "code",
   "execution_count": 23,
   "metadata": {},
   "outputs": [
    {
     "data": {
      "text/plain": [
       "<function spacy.pipeline.functions.merge_noun_chunks(doc: spacy.tokens.doc.Doc) -> spacy.tokens.doc.Doc>"
      ]
     },
     "execution_count": 23,
     "metadata": {},
     "output_type": "execute_result"
    }
   ],
   "source": [
    "nlp.add_pipe(\"merge_noun_chunks\")"
   ]
  },
  {
   "cell_type": "code",
   "execution_count": 25,
   "metadata": {},
   "outputs": [],
   "source": [
    "merged_doc = nlp(text)"
   ]
  },
  {
   "cell_type": "code",
   "execution_count": 31,
   "metadata": {},
   "outputs": [
    {
     "name": "stdout",
     "output_type": "stream",
     "text": [
      "['the truck profitability', 'a gross margin perspective', 'operating effects']\n"
     ]
    }
   ],
   "source": [
    "phrase_list = []\n",
    "for phrase in merged_doc:\n",
    "    if phrase.pos_ == \"NOUN\":\n",
    "        phrase_list.append(phrase.text)\n",
    "print(phrase_list)"
   ]
  }
 ],
 "metadata": {
  "kernelspec": {
   "display_name": "Python 3.9.1 64-bit ('con_summary_env': venv)",
   "language": "python",
   "name": "python391jvsc74a57bd012466f790b01845891e8c54f2878097070b87efd364ef8a7c7054cc189b73841"
  },
  "language_info": {
   "codemirror_mode": {
    "name": "ipython",
    "version": 3
   },
   "file_extension": ".py",
   "mimetype": "text/x-python",
   "name": "python",
   "nbconvert_exporter": "python",
   "pygments_lexer": "ipython3",
   "version": "3.9.1"
  }
 },
 "nbformat": 4,
 "nbformat_minor": 4
}
