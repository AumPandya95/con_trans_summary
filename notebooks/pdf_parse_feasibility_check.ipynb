{
 "cells": [
  {
   "cell_type": "code",
   "execution_count": 171,
   "metadata": {},
   "outputs": [],
   "source": [
    "from transformers import AutoTokenizer, AutoModelForTokenClassification\n",
    "from transformers import pipeline\n",
    "\n",
    "from pdfminer.high_level import extract_text\n",
    "import re\n",
    "import pandas as pd"
   ]
  },
  {
   "cell_type": "code",
   "execution_count": null,
   "metadata": {},
   "outputs": [],
   "source": [
    "# For BERT based NER\n",
    "tokenizer = AutoTokenizer.from_pretrained(\"dslim/bert-base-NER\")\n",
    "model = AutoModelForTokenClassification.from_pretrained(\"dslim/bert-base-NER\")"
   ]
  },
  {
   "cell_type": "code",
   "execution_count": 2,
   "metadata": {},
   "outputs": [],
   "source": [
    "text = extract_text('../data/e546b4e7-9efe-4a5a-8e31-09a09f9487fb.pdf')\n",
    "text1 = extract_text('../data/AGM_Transcript_Revised.pdf')"
   ]
  },
  {
   "cell_type": "code",
   "execution_count": 3,
   "metadata": {},
   "outputs": [
    {
     "data": {
      "text/plain": [
       "'A.V. Mani Sundaram'"
      ]
     },
     "execution_count": 3,
     "metadata": {},
     "output_type": "execute_result"
    }
   ],
   "source": [
    "# Idea -> Creating tokens as Points of Interest (POI) in the text extracted from the PDF\n",
    "# and using these tokens to extract Entities of Interest (EOI)\n",
    "string = 'I now invite Mr. A.V. Mani Sundaram, CLID IN30163741521740.<mask>A.V. Mani Sundaram:'\n",
    "rege = r'(<mask>(.*)<mask>(.*?):)|(<mask>(.*?):)'\n",
    "\n",
    "re.findall(rege, string)[0][-1]"
   ]
  },
  {
   "cell_type": "code",
   "execution_count": 122,
   "metadata": {
    "scrolled": false
   },
   "outputs": [],
   "source": [
    "# Step 1: Creating POI\n",
    "text = text.replace('\\n\\n', '<mask>').replace('\\n', '<m>').replace('\\x0c', '')\n",
    "text1 = text1.replace('\\n\\n', '<mask>').replace('\\n', '<m>').replace('\\x0c', '')"
   ]
  },
  {
   "cell_type": "code",
   "execution_count": 123,
   "metadata": {},
   "outputs": [],
   "source": [
    "# Step 2: Extracting EOI\n",
    "a = re.findall(r'<mask>(.*?):', text1)\n",
    "a = [str(_.strip()) + ':' for _ in a]\n",
    "\n",
    "final_list = []\n",
    "for string in a:\n",
    "    match_group = re.findall(r'(<mask>(.*)<mask>(.*?):)|(<mask>(.*?):)', string)\n",
    "    non_empty_group = [ele for inner_group in match_group for ele in inner_group if ele]\n",
    "    # print(non_empty_group)\n",
    "    if match_group:\n",
    "        if len(non_empty_group[0]) < 2:\n",
    "            pass\n",
    "        else:\n",
    "#             print(match_group[0][1])\n",
    "            final_list.append(non_empty_group[-1])\n",
    "#     final_list.extend(re.findall(r'<mask><mask>(.*)<mask><mask>(.*?):', string)[-1])\n",
    "\n",
    "# Approach: Weed out entities based on length of the string\n",
    "# Assumption: A typical name would not exceed 40 characters\n",
    "filtered_list = [filtered_element for filtered_element in final_list if len(filtered_element) <= 40]"
   ]
  },
  {
   "cell_type": "code",
   "execution_count": 138,
   "metadata": {
    "scrolled": true
   },
   "outputs": [],
   "source": [
    "# Tentative Approach: Trying to filter out PER entities  (discarded)\n",
    "nlp = pipeline(\"ner\", model=model, tokenizer=tokenizer)\n",
    "\n",
    "for each_element in filtered_list:\n",
    "    ner = nlp(each_element.replace('.', ''))\n",
    "#     print(ner)\n",
    "# Cons: Does not work as expected; Moderator, Management does not fit under any entity; breaks down single words\n",
    "# and provides entities (is this expected?)"
   ]
  },
  {
   "cell_type": "code",
   "execution_count": 139,
   "metadata": {
    "scrolled": false
   },
   "outputs": [],
   "source": [
    "# Step 3: Extracting location of all EOI\n",
    "entity_span = []\n",
    "for element in filtered_list:\n",
    "    for find_result in re.finditer(str(element) + ':', text1):\n",
    "        span = (element, int(find_result.start()), int(find_result.end()))\n",
    "        entity_span.append(span)\n",
    "entity_span = list(set(entity_span))\n",
    "entity_span = sorted(entity_span, key=lambda span_list: span_list[1])\n",
    "# print(entity_span)"
   ]
  },
  {
   "cell_type": "code",
   "execution_count": 172,
   "metadata": {},
   "outputs": [],
   "source": [
    "# Step 4: Extracting relevant information based on the EOI\n",
    "\n",
    "desired_columns = [\"Sr.No.\", \"Name\", \"GroupOfSentences\"]\n",
    "information_frame = pd.DataFrame(None, columns=desired_columns)\n",
    "for sequence, entity_information in enumerate(entity_span):\n",
    "    start_index = entity_information[1]\n",
    "    end_index = entity_information[2]\n",
    "    if entity_information[0].lower() == \"management\":\n",
    "        management_string = text1[\n",
    "            end_index: entity_span[sequence+1][1]\n",
    "        ].replace(\"<mask>\", \"|\").replace(\"<m>\", \"|\")\n",
    "        management_list = management_string.split(\"|\")\n",
    "        \n",
    "        frame = pd.DataFrame([[sequence, entity_information[0], management_string]], columns=desired_columns)\n",
    "\n",
    "    elif (\"directors\" in entity_information[0].lower()) and (\"board\" in entity_information[0].lower()):\n",
    "        director_string = text1[\n",
    "            end_index: entity_span[sequence+1][1]\n",
    "        ].replace(\"<mask>\", \"|\").replace(\"<m>\", \"|\")\n",
    "        director_list = director_string.split(\"|\")\n",
    "\n",
    "        frame = pd.DataFrame([[sequence, entity_information[0], director_string]], columns=desired_columns)\n",
    "\n",
    "    else:\n",
    "        try:\n",
    "            relevant_string = text1[\n",
    "                end_index: entity_span[sequence+1][1]\n",
    "            ].replace(\"<mask>\", \" \").replace(\"<m>\", \" \")\n",
    "        except IndexError:\n",
    "            relevant_string = text1[\n",
    "                end_index:\n",
    "            ].replace(\"<mask>\", \" \").replace(\"<m>\", \" \")\n",
    "    \n",
    "        frame = pd.DataFrame([[sequence, entity_information[0], relevant_string]], columns=desired_columns)\n",
    "    \n",
    "    information_frame = pd.concat([information_frame, frame], axis=0)"
   ]
  },
  {
   "cell_type": "code",
   "execution_count": 176,
   "metadata": {},
   "outputs": [],
   "source": [
    "information_frame.to_excel(\"../data/output_dataframe.xlsx\")"
   ]
  },
  {
   "cell_type": "code",
   "execution_count": null,
   "metadata": {},
   "outputs": [],
   "source": []
  },
  {
   "cell_type": "code",
   "execution_count": 20,
   "metadata": {},
   "outputs": [
    {
     "data": {
      "text/plain": [
       "'MANAGEMENT:  MR.  R.  K.  SHETTY  —  MANAGING  DIRECTOR,  HERANBA \\n\\nINDUSTRIES  LIMITED \\n\\nMR.  RAUNAK  SHETTY  —  EXECUTIVE  DIRECTOR, \\n\\nHERANBA  INDUSTRIES  LIMITED \\n\\nMR.  RAJ  KUMAR  BAFNA  —  CHIEF  FINANCIAL  OFFICER, \\n\\nHERANBA  INDUSTRIES  LIMITED \\n\\nPage  1  of  18\\n\\n\\x0cHERANBA \\n\\nINDUSTRIES  LIMITED \\nA  Govt,  Recognised  Export  House \\n\\nHeranba  Industries  Limited \\nAugust  17,  2027 \\n\\nModerator: \\n\\nLadies  and  Gentlemen,  Good  Day  and  Welcome  to  the  Ql  FY22  Earnings  Conference  Call  for \\n\\nHeranba  Industries  Limited.  As  a  reminder,  all  participants’  lines  will  be  in  the  listen-only  mode, \\n\\nand  there  will  be  an  opportunity  for  you  to  ask  questions  after  the  presentation  concludes.  Should \\n\\nyou  need  assistance  during  this  conference  call,  please  signal  an  operator  by  pressing  ‘*’  and \\n\\nthen  ‘0’  on  your  touchtone  phone.  Please  note  that  this  conference  is  being  recorded.  I  now  hand \\n\\nthe  conference  over  to  Mr.  Ni'"
      ]
     },
     "execution_count": 20,
     "metadata": {},
     "output_type": "execute_result"
    }
   ],
   "source": [
    "text[text.find('MANAGEMENT:'): text.find('MANAGEMENT:')+1000]"
   ]
  },
  {
   "cell_type": "code",
   "execution_count": 50,
   "metadata": {},
   "outputs": [
    {
     "name": "stdout",
     "output_type": "stream",
     "text": [
      "['  mr.  r.  k.  shetty  —  managing  director,  heranba ', 'industries  limited ', 'mr.  raunak  shetty  —  executive  director, ', 'heranba  industries  limited ', 'mr.  raj  kumar  bafna  —  chief  financial  officer, ', 'heranba  industries  limited ', 'page  1  of  18', '\\x0cheranba ', 'industries  limited \\na  govt,  recognised  export  house ', 'heranba  industries  limited \\naugust  17,  2027 ', 'moderator']\n"
     ]
    }
   ],
   "source": [
    "pattern = \"management:((.|\\n)*?):\"\n",
    "sub_string = re.search(pattern, text.lower()).groups()\n",
    "\n",
    "print(sub_string[0].split('\\n\\n'))"
   ]
  },
  {
   "cell_type": "code",
   "execution_count": 56,
   "metadata": {},
   "outputs": [
    {
     "name": "stdout",
     "output_type": "stream",
     "text": [
      "[' shri r. mohan – non-executive chairman', 'dr. n. kamakodi – managing director & ceo\\nmr. v. ramesh – cfo & company secretary', 'board of directors present']\n"
     ]
    }
   ],
   "source": [
    "pattern = \"management:((.|\\n)*?):\"\n",
    "sub_string = re.search(pattern, text1.lower()).groups()\n",
    "\n",
    "print(sub_string[0].split('\\n\\n'))"
   ]
  },
  {
   "cell_type": "code",
   "execution_count": null,
   "metadata": {},
   "outputs": [],
   "source": []
  },
  {
   "cell_type": "code",
   "execution_count": 1,
   "metadata": {},
   "outputs": [],
   "source": [
    "import camelot"
   ]
  },
  {
   "cell_type": "code",
   "execution_count": 3,
   "metadata": {},
   "outputs": [
    {
     "data": {
      "text/plain": [
       "0"
      ]
     },
     "execution_count": 3,
     "metadata": {},
     "output_type": "execute_result"
    }
   ],
   "source": [
    "tables = camelot.read_pdf(\"../data/e546b4e7-9efe-4a5a-8e31-09a09f9487fb.pdf\")\n",
    "tables.n"
   ]
  },
  {
   "cell_type": "code",
   "execution_count": 6,
   "metadata": {},
   "outputs": [],
   "source": [
    "import tabula\n",
    "import os"
   ]
  },
  {
   "cell_type": "code",
   "execution_count": 8,
   "metadata": {},
   "outputs": [
    {
     "data": {
      "text/plain": [
       "[Empty DataFrame\n",
       " Columns: [Unnamed: 0]\n",
       " Index: [],\n",
       " Empty DataFrame\n",
       " Columns: [Karmanye Vadhikarast, , Ma Phaleshou Kada Chana”]\n",
       " Index: []]"
      ]
     },
     "execution_count": 8,
     "metadata": {},
     "output_type": "execute_result"
    }
   ],
   "source": [
    "tables = tabula.read_pdf(\"../data/AGM_Transcript_Revised.pdf\", pages=\"all\")\n",
    "tables"
   ]
  },
  {
   "cell_type": "code",
   "execution_count": null,
   "metadata": {},
   "outputs": [],
   "source": [
    "<mask>(.*)<mask><mask>(.*?):"
   ]
  }
 ],
 "metadata": {
  "interpreter": {
   "hash": "12466f790b01845891e8c54f2878097070b87efd364ef8a7c7054cc189b73841"
  },
  "kernelspec": {
   "display_name": "Python 3.9.1 64-bit ('con_summary_env': venv)",
   "language": "python",
   "name": "python391jvsc74a57bd012466f790b01845891e8c54f2878097070b87efd364ef8a7c7054cc189b73841"
  },
  "language_info": {
   "codemirror_mode": {
    "name": "ipython",
    "version": 3
   },
   "file_extension": ".py",
   "mimetype": "text/x-python",
   "name": "python",
   "nbconvert_exporter": "python",
   "pygments_lexer": "ipython3",
   "version": "3.9.1"
  }
 },
 "nbformat": 4,
 "nbformat_minor": 4
}
